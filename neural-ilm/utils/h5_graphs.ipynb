{
 "cells": [
  {
   "cell_type": "code",
   "execution_count": null,
   "metadata": {},
   "outputs": [],
   "source": [
    "%matplotlib inline\n",
    "\n",
    "import time\n",
    "import shutil\n",
    "\n",
    "import h5py\n",
    "import numpy as np\n",
    "import matplotlib.pyplot as plt\n",
    "\n",
    "import torch\n",
    "\n",
    "# f = h5py.File('../hists/bar_hughtok1_20180921_175004.h5', 'r')\n",
    "shutil.copy('../hists/bar_hughtok1_20180921_175004.h5', '/tmp/foo.h5')\n",
    "f = h5py.File('/tmp/foo.h5', 'r')\n",
    "outputs = torch.from_numpy(f['outputs'][:])\n",
    "labels = torch.from_numpy(f['labels'][:])\n",
    "print(outputs.shape)\n",
    "\n",
    "def plot_hist(x, bins, label=None):\n",
    "    \"\"\"\n",
    "    from https://stackoverflow.com/questions/5328556/histogram-matplotlib/18611135#18611135\n",
    "    \"\"\"\n",
    "    bins, edges = np.histogram(x, bins, normed=1)\n",
    "    left,right = edges[:-1],edges[1:]\n",
    "    X = np.array([left,right]).T.flatten()\n",
    "    Y = np.array([bins,bins]).T.flatten()\n",
    "\n",
    "    plt.plot(X,Y, label=label)\n",
    "\n",
    "# for i in range(10):\n",
    "#     c_idxes = (labels == i).view(-1).nonzero().view(-1).long()\n",
    "#     _outputs = outputs[c_idxes]\n",
    "#     for j in range(10):\n",
    "#         plot_hist(_outputs[:, j].numpy(), bins=100, label=f'{j}')\n",
    "#     plt.legend()\n",
    "#     plt.show()\n"
   ]
  },
  {
   "cell_type": "code",
   "execution_count": null,
   "metadata": {},
   "outputs": [],
   "source": [
    "N = outputs.size(0)\n",
    "n = 128\n",
    "outputs_ = outputs[-128:]\n",
    "labels_ = labels[-128:]\n",
    "\n",
    "for c in range(10):\n",
    "    c_idxes = (labels_ == c).view(-1).nonzero().view(-1).long()\n",
    "    c_n = c_idxes.size(0)\n",
    "    c_labels = torch.zeros(c_n * 10, dtype=torch.int64)\n",
    "    c_values = torch.zeros(c_n * 10, dtype=torch.float32)\n",
    "    for j in range(10):\n",
    "        b1 = j * c_n\n",
    "        b2 = b1 + c_n\n",
    "        c_labels[b1:b2] = j\n",
    "        c_values[b1:b2] = outputs_[c_idxes, j]\n",
    "    plt.scatter(c_labels.float().numpy(), c_values.numpy(), marker='_', color=np.random.rand(3), s=400, label=f'{c}')\n",
    "    plt.show()"
   ]
  },
  {
   "cell_type": "code",
   "execution_count": null,
   "metadata": {},
   "outputs": [],
   "source": [
    "import sklearn.metrics.cluster\n",
    "\n",
    "\"\"\"\n",
    "if we want to use mutual information, what distributions of labels do we want to compare?\n",
    "\n",
    "I guess the predicted labels and the ground truth labels?\n",
    "\"\"\"\n",
    "\n",
    "_, pred = outputs_.max(dim=-1)\n",
    "MI = sklearn.metrics.cluster.mutual_info_score(\n",
    "    labels_true=labels_.numpy(),\n",
    "    labels_pred=pred.numpy()\n",
    ")\n",
    "print('MI', MI)\n",
    "\n",
    "adj_MI = sklearn.metrics.cluster.adjusted_mutual_info_score(\n",
    "    labels_true=labels_.numpy(),\n",
    "    labels_pred=pred.numpy()\n",
    ")\n",
    "print('adj_MI', adj_MI)\n"
   ]
  }
 ],
 "metadata": {
  "kernelspec": {
   "display_name": "Python 3",
   "language": "python",
   "name": "python3"
  },
  "language_info": {
   "codemirror_mode": {
    "name": "ipython",
    "version": 3
   },
   "file_extension": ".py",
   "mimetype": "text/x-python",
   "name": "python",
   "nbconvert_exporter": "python",
   "pygments_lexer": "ipython3",
   "version": "3.6.5"
  }
 },
 "nbformat": 4,
 "nbformat_minor": 2
}
