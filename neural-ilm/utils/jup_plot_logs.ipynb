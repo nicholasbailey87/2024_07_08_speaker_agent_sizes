{
 "cells": [
  {
   "cell_type": "code",
   "execution_count": null,
   "metadata": {},
   "outputs": [],
   "source": [
    "%matplotlib inline\n",
    "import sys, importlib\n",
    "if '..' not in sys.path:\n",
    "    sys.path.append('..')\n",
    "\n",
    "import ulfs\n",
    "from ulfs import graphing, graphing_common, graphing_indexes\n",
    "\n",
    "importlib.reload(ulfs.graphing)\n",
    "importlib.reload(ulfs.graphing_common)\n",
    "importlib.reload(ulfs.graphing_indexes)\n",
    "\n",
    "groups = [\n",
    "#     {'title': 'hyp backprop',\n",
    "#          'series': [\n",
    "#                 'eec39.s_acc1_ds44_ts7_rels_nodist_128ex', 'eec43.s_acc1_ds44_ts7_rels_nodist_128ex',\n",
    "#                 'eec39.s_acc1_ds45_ts7_rels_2dist_128ex', 'eec43.s_acc1_ds45_ts7_rels_2dist_128ex',\n",
    "#              ],\n",
    "#          'script': 'hypprop_with_predictor', 'units': ''},\n",
    "]\n",
    "\n",
    "graphing.plot_groups3(groups)\n",
    "\n",
    "def ref_task(title, boxes, epochs_thousands, value_keys=['acc', 'holdout_acc', 'rho'], x_lims=None, script='ref_task'):\n",
    "    return {'title': title,\n",
    "         'record_type': 'e2e', 'value_keys': value_keys, 'x_lims': x_lims,\n",
    "         'boxes': boxes, 'num_cols': 3,\n",
    "         'script': script, 'units': 'thousands', 'use_subplots': True, 'step_key': 'epoch',\n",
    "         'skip_record_types': ['sup_train_res'], 'stats_epochs': [e * 1000 for e in epochs_thousands]\n",
    "    }\n",
    "\n",
    "groups = [\n",
    "    ref_task('1 check greedy', ['rt137'], [], value_keys=['acc', 'holdout_acc', 'rho', 'sender_greedy', 'receiver_greedy']),\n",
    "#     ref_task('1 check greedy', ['rt137'], [], value_keys=['sender_greedy', 'receiver_greedy']),\n",
    "\n",
    "    ref_task('1 check greedy', ['rt135', 'rt136', 'rt137'], [], value_keys=['acc', 'holdout_acc', 'rho', 'sender_greedy', 'receiver_greedy']),\n",
    "#     ref_task('1 check greedy', ['rt135', 'rt136', 'rt137'], [], value_keys=[]),\n",
    "\n",
    "    ref_task('2 check greedy', ['rt138', 'rt139', 'rt140'], [], value_keys=['acc', 'holdout_acc', 'rho', 'sender_greedy', 'receiver_greedy']),\n",
    "#     ref_task('2 check greedy', ['rt138', 'rt139', 'rt140'], [], value_keys=['sender_greedy', 'receiver_greedy']),\n",
    "\n",
    "    ref_task('1 noilm argmax', ['rt115'], [300], script='ref_task_clevr'),\n",
    "    ref_task('2 noilm argmax', ['rt116'], [300], script='ref_task_clevr'),\n",
    "    ref_task('3 noilm argmax', ['rt117'], [300], script='ref_task_clevr'),\n",
    "]\n",
    "\n",
    "graphing.plot_groups2_combos(groups)"
   ]
  },
  {
   "cell_type": "markdown",
   "metadata": {},
   "source": [
    "reminder:\n",
    "\n",
    "\n"
   ]
  },
  {
   "cell_type": "code",
   "execution_count": null,
   "metadata": {},
   "outputs": [],
   "source": [
    "\n",
    "\n",
    "graphing.print_metas()\n",
    "\n",
    "print('')\n",
    "graphing.get_hists()"
   ]
  }
 ],
 "metadata": {
  "kernelspec": {
   "display_name": "Python 3",
   "language": "python",
   "name": "python3"
  },
  "language_info": {
   "codemirror_mode": {
    "name": "ipython",
    "version": 3
   },
   "file_extension": ".py",
   "mimetype": "text/x-python",
   "name": "python",
   "nbconvert_exporter": "python",
   "pygments_lexer": "ipython3",
   "version": "3.6.8"
  }
 },
 "nbformat": 4,
 "nbformat_minor": 2
}
