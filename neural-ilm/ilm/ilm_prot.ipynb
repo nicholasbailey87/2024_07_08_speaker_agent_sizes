{
 "cells": [
  {
   "cell_type": "code",
   "execution_count": null,
   "metadata": {
    "scrolled": false
   },
   "outputs": [],
   "source": [
    "import torch\n",
    "import numpy as np\n",
    "import math\n",
    "\n",
    "N = 32\n",
    "M = 5\n",
    "V = 3\n",
    "train = torch.from_numpy(np.random.choice(V, (N, M), replace=True))\n",
    "print('train', train)\n",
    "\n",
    "num_holdout = 10\n",
    "holdout = torch.from_numpy(np.random.choice(V, (num_holdout, M), replace=True))\n",
    "print('holdout', holdout)\n",
    "\n",
    "compare_mask = torch.from_numpy(np.random.choice(2, M, replace=True))\n",
    "print('compare_mask', compare_mask)\n",
    "\n",
    "valid = torch.ones(N, dtype=torch.uint8)\n",
    "for n in range(num_holdout):\n",
    "    holdout_v = holdout[n]\n",
    "    print('holdout_v', holdout_v)\n",
    "    equal = holdout_v == train\n",
    "    print('equal', equal)\n",
    "    equal[:, (1 - compare_mask).nonzero()] = 1\n",
    "    print('equal', equal)\n",
    "    equal = equal.min(dim=-1)[0]\n",
    "    print('equal', equal.unsqueeze(-1))\n",
    "    valid[equal.nonzero()] = 0\n",
    "    print('valid', valid.unsqueeze(-1))\n",
    "    break"
   ]
  },
  {
   "cell_type": "code",
   "execution_count": null,
   "metadata": {
    "scrolled": false
   },
   "outputs": [],
   "source": [
    "import torch\n",
    "import numpy as np\n",
    "import math\n",
    "\n",
    "N = 32\n",
    "M = 5\n",
    "V = 3\n",
    "train = torch.from_numpy(np.random.choice(V, (N, M), replace=True))\n",
    "print('train', train)\n",
    "\n",
    "num_holdout = 10\n",
    "holdout = torch.from_numpy(np.random.choice(V, (num_holdout, M), replace=True))\n",
    "print('holdout', holdout)\n",
    "\n",
    "num_masks = 6\n",
    "compare_masks = torch.from_numpy(np.random.choice(2, (num_masks, M), replace=True))\n",
    "print('compare_masks', compare_masks)\n",
    "\n",
    "valid = torch.ones(N, dtype=torch.uint8)\n",
    "for mask_i in range(num_masks):\n",
    "    compare_mask = compare_masks[mask_i]\n",
    "    print('mask_i', mask_i, 'compare_mask', compare_mask)\n",
    "    for n in range(num_holdout):\n",
    "        holdout_v = holdout[n]\n",
    "#         print('holdout_v', holdout_v)\n",
    "        equal = holdout_v == train\n",
    "#         print('equal', equal)\n",
    "        equal[:, (1 - compare_mask).nonzero()] = 1\n",
    "#         print('equal', equal)\n",
    "        equal = equal.min(dim=-1)[0]\n",
    "#         print('equal', equal.unsqueeze(-1))\n",
    "        valid[equal.nonzero()] = 0\n",
    "        print('valid', valid)\n",
    "#         break"
   ]
  }
 ],
 "metadata": {
  "kernelspec": {
   "display_name": "Python 3",
   "language": "python",
   "name": "python3"
  },
  "language_info": {
   "codemirror_mode": {
    "name": "ipython",
    "version": 3
   },
   "file_extension": ".py",
   "mimetype": "text/x-python",
   "name": "python",
   "nbconvert_exporter": "python",
   "pygments_lexer": "ipython3",
   "version": "3.6.6"
  }
 },
 "nbformat": 4,
 "nbformat_minor": 2
}
