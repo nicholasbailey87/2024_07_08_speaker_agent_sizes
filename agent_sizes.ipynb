{
 "cells": [
  {
   "cell_type": "code",
   "execution_count": 1,
   "id": "e1941a38-9621-46d8-a591-085b3a632721",
   "metadata": {},
   "outputs": [
    {
     "name": "stdout",
     "output_type": "stream",
     "text": [
      "Requirement already satisfied: torch in c:\\users\\nicho\\.conda\\envs\\agent_sizes\\lib\\site-packages (2.3.1)\n",
      "Requirement already satisfied: filelock in c:\\users\\nicho\\.conda\\envs\\agent_sizes\\lib\\site-packages (from torch) (3.15.1)\n",
      "Requirement already satisfied: typing-extensions>=4.8.0 in c:\\users\\nicho\\.conda\\envs\\agent_sizes\\lib\\site-packages (from torch) (4.11.0)\n",
      "Requirement already satisfied: sympy in c:\\users\\nicho\\.conda\\envs\\agent_sizes\\lib\\site-packages (from torch) (1.12.1)\n",
      "Requirement already satisfied: networkx in c:\\users\\nicho\\.conda\\envs\\agent_sizes\\lib\\site-packages (from torch) (3.1)\n",
      "Requirement already satisfied: jinja2 in c:\\users\\nicho\\.conda\\envs\\agent_sizes\\lib\\site-packages (from torch) (3.1.4)\n",
      "Requirement already satisfied: fsspec in c:\\users\\nicho\\.conda\\envs\\agent_sizes\\lib\\site-packages (from torch) (2022.2.0)\n",
      "Requirement already satisfied: mkl<=2021.4.0,>=2021.1.1 in c:\\users\\nicho\\.conda\\envs\\agent_sizes\\lib\\site-packages (from torch) (2021.4.0)\n",
      "Requirement already satisfied: intel-openmp==2021.* in c:\\users\\nicho\\.conda\\envs\\agent_sizes\\lib\\site-packages (from mkl<=2021.4.0,>=2021.1.1->torch) (2021.4.0)\n",
      "Requirement already satisfied: tbb==2021.* in c:\\users\\nicho\\.conda\\envs\\agent_sizes\\lib\\site-packages (from mkl<=2021.4.0,>=2021.1.1->torch) (2021.12.0)\n",
      "Requirement already satisfied: MarkupSafe>=2.0 in c:\\users\\nicho\\.conda\\envs\\agent_sizes\\lib\\site-packages (from jinja2->torch) (2.1.3)\n",
      "Requirement already satisfied: mpmath<1.4.0,>=1.1.0 in c:\\users\\nicho\\.conda\\envs\\agent_sizes\\lib\\site-packages (from sympy->torch) (1.3.0)\n"
     ]
    }
   ],
   "source": [
    "!pip install torch"
   ]
  },
  {
   "cell_type": "code",
   "execution_count": 2,
   "id": "4dc02874-0fa9-4a37-ac53-a0a07bb528be",
   "metadata": {},
   "outputs": [],
   "source": [
    "import torch\n",
    "import torch.nn as nn\n",
    "import torch.nn.functional as F\n",
    "\n",
    "# setting device on GPU if available, else CPU\n",
    "device = 'cuda' if torch.cuda.is_available() else 'cpu'"
   ]
  },
  {
   "cell_type": "code",
   "execution_count": 3,
   "id": "cb856e76-1074-406f-99df-535a9bcea753",
   "metadata": {},
   "outputs": [],
   "source": [
    "import os\n",
    "import sys\n",
    "\n",
    "original_working_directory = os.getcwd()\n",
    "original_working_directory\n",
    "sys.path.append(original_working_directory)"
   ]
  },
  {
   "cell_type": "code",
   "execution_count": 4,
   "id": "cd3c55ce-6af9-4c9b-ac2d-304a92c2c99b",
   "metadata": {},
   "outputs": [],
   "source": [
    "def count_parameters(module):\n",
    "    parameter_count = 0\n",
    "    for params in module.parameters():\n",
    "        parameter_count += params.numel()\n",
    "    return (parameter_count, len(str(parameter_count)))"
   ]
  },
  {
   "cell_type": "code",
   "execution_count": 5,
   "id": "fee12fde-5f0f-415b-bbd5-3f96dcd48b0e",
   "metadata": {},
   "outputs": [],
   "source": [
    "parameter_sizes = []"
   ]
  },
  {
   "cell_type": "markdown",
   "id": "3cd363ac-0b21-40b3-a8f3-7cc68ce38321",
   "metadata": {},
   "source": [
    "## Natural language does not emerge ’naturally’ in multi-agent dialog"
   ]
  },
  {
   "cell_type": "code",
   "execution_count": 6,
   "id": "f0be0b82-7524-4b57-8e5b-352e92b8a011",
   "metadata": {},
   "outputs": [
    {
     "ename": "ImportError",
     "evalue": "cannot import name 'HTML' from 'html' (C:\\Users\\nicho\\.conda\\envs\\agent_sizes\\lib\\html\\__init__.py)",
     "output_type": "error",
     "traceback": [
      "\u001b[1;31m---------------------------------------------------------------------------\u001b[0m",
      "\u001b[1;31mImportError\u001b[0m                               Traceback (most recent call last)",
      "Cell \u001b[1;32mIn[6], line 14\u001b[0m\n\u001b[0;32m     12\u001b[0m \u001b[38;5;28;01mimport\u001b[39;00m \u001b[38;5;21;01mitertools\u001b[39;00m\u001b[38;5;241m,\u001b[39m \u001b[38;5;21;01mpdb\u001b[39;00m\u001b[38;5;241m,\u001b[39m \u001b[38;5;21;01mrandom\u001b[39;00m\u001b[38;5;241m,\u001b[39m \u001b[38;5;21;01mos\u001b[39;00m\n\u001b[0;32m     13\u001b[0m \u001b[38;5;28;01mimport\u001b[39;00m \u001b[38;5;21;01mnumpy\u001b[39;00m \u001b[38;5;28;01mas\u001b[39;00m \u001b[38;5;21;01mnp\u001b[39;00m\n\u001b[1;32m---> 14\u001b[0m \u001b[38;5;28;01mfrom\u001b[39;00m \u001b[38;5;21;01mchatbots\u001b[39;00m \u001b[38;5;28;01mimport\u001b[39;00m Team\n\u001b[0;32m     15\u001b[0m \u001b[38;5;28;01mfrom\u001b[39;00m \u001b[38;5;21;01mdataloader\u001b[39;00m \u001b[38;5;28;01mimport\u001b[39;00m Dataloader\n\u001b[0;32m     16\u001b[0m \u001b[38;5;28;01mimport\u001b[39;00m \u001b[38;5;21;01moptions\u001b[39;00m\n",
      "File \u001b[1;32mC:\\git_repos\\2024_05_12_speaker_agent_sizes\\lang-emerge\\chatbots.py:8\u001b[0m\n\u001b[0;32m      6\u001b[0m \u001b[38;5;28;01mimport\u001b[39;00m \u001b[38;5;21;01mtorch\u001b[39;00m\u001b[38;5;21;01m.\u001b[39;00m\u001b[38;5;21;01mautograd\u001b[39;00m \u001b[38;5;28;01mas\u001b[39;00m \u001b[38;5;21;01mautograd\u001b[39;00m\n\u001b[0;32m      7\u001b[0m \u001b[38;5;28;01mimport\u001b[39;00m \u001b[38;5;21;01msys\u001b[39;00m\n\u001b[1;32m----> 8\u001b[0m \u001b[38;5;28;01mfrom\u001b[39;00m \u001b[38;5;21;01mutilities\u001b[39;00m \u001b[38;5;28;01mimport\u001b[39;00m initializeWeights\n\u001b[0;32m     10\u001b[0m \u001b[38;5;66;03m#---------------------------------------------------------------------------\u001b[39;00m\n\u001b[0;32m     11\u001b[0m \u001b[38;5;66;03m# Parent class for both q and a bots\u001b[39;00m\n\u001b[0;32m     12\u001b[0m \u001b[38;5;28;01mclass\u001b[39;00m \u001b[38;5;21;01mChatBot\u001b[39;00m(nn\u001b[38;5;241m.\u001b[39mModule):\n",
      "File \u001b[1;32mC:\\git_repos\\2024_05_12_speaker_agent_sizes\\lang-emerge\\utilities.py:7\u001b[0m\n\u001b[0;32m      5\u001b[0m \u001b[38;5;28;01mimport\u001b[39;00m \u001b[38;5;21;01msys\u001b[39;00m\u001b[38;5;241m,\u001b[39m \u001b[38;5;21;01mjson\u001b[39;00m\u001b[38;5;241m,\u001b[39m \u001b[38;5;21;01mpdb\u001b[39;00m\u001b[38;5;241m,\u001b[39m \u001b[38;5;21;01mmath\u001b[39;00m\n\u001b[0;32m      6\u001b[0m sys\u001b[38;5;241m.\u001b[39mpath\u001b[38;5;241m.\u001b[39mappend(\u001b[38;5;124m'\u001b[39m\u001b[38;5;124m../\u001b[39m\u001b[38;5;124m'\u001b[39m)\n\u001b[1;32m----> 7\u001b[0m \u001b[38;5;28;01mfrom\u001b[39;00m \u001b[38;5;21;01mhtml\u001b[39;00m \u001b[38;5;28;01mimport\u001b[39;00m HTML\n\u001b[0;32m      9\u001b[0m \u001b[38;5;66;03m# Initializing weights\u001b[39;00m\n\u001b[0;32m     10\u001b[0m \u001b[38;5;28;01mdef\u001b[39;00m \u001b[38;5;21minitializeWeights\u001b[39m(moduleList, itype):\n",
      "\u001b[1;31mImportError\u001b[0m: cannot import name 'HTML' from 'html' (C:\\Users\\nicho\\.conda\\envs\\agent_sizes\\lib\\html\\__init__.py)"
     ]
    }
   ],
   "source": [
    "os.chdir(original_working_directory)\n",
    "os.chdir('lang-emerge')\n",
    "\n",
    "# script to train interactive bots in toy world\n",
    "# author: satwik kottur\n",
    "import sys\n",
    "import torch\n",
    "import torch.nn as nn\n",
    "from torch.autograd import Variable\n",
    "import torch.optim as optim\n",
    "\n",
    "import itertools, pdb, random, os\n",
    "import numpy as np\n",
    "from chatbots import Team\n",
    "from dataloader import Dataloader\n",
    "import options\n",
    "from time import gmtime, strftime\n",
    "\n",
    "# read the command line options\n",
    "options = options.read()\n",
    "#------------------------------------------------------------------------\n",
    "# setup experiment and dataset\n",
    "#------------------------------------------------------------------------\n",
    "data = Dataloader(options)\n",
    "numInst = data.getInstCount()\n",
    "\n",
    "params = data.params\n",
    "# append options from options to params\n",
    "for key, value in options.items():\n",
    "  params[key] = value\n",
    "\n",
    "#------------------------------------------------------------------------\n",
    "# build agents, and setup optmizer\n",
    "#------------------------------------------------------------------------\n",
    "team = Team(params)\n",
    "\n",
    "speaker = team.qBot\n",
    "\n",
    "params, order = count_parameters(speaker)\n",
    "parameter_sizes.append({\n",
    "    'title': 'The Emergence of Compositional Languages for Numeric Concepts Through Iterated Learning in Neural Agents',\n",
    "    'params': params,\n",
    "    'order': order\n",
    "})\n",
    "params, order"
   ]
  },
  {
   "cell_type": "markdown",
   "id": "9ece762b-3d72-4b4b-8410-106a75303878",
   "metadata": {},
   "source": [
    "## Emergence of Grounded Compositional Language in Multi-Agent Populations"
   ]
  },
  {
   "cell_type": "code",
   "execution_count": null,
   "id": "7e940afa-0728-4935-8fa9-fde5fec80bb0",
   "metadata": {},
   "outputs": [],
   "source": [
    "os.chdir(original_working_directory)\n",
    "os.chdir('emergent-language/modules')\n",
    "\n",
    "from agent import AgentModule\n",
    "from configs import default_agent_config\n",
    "\n",
    "speaker = AgentModule(default_agent_config)\n",
    "\n",
    "params, order = count_parameters(speaker)\n",
    "parameter_sizes.append({\n",
    "    'title': 'The Emergence of Compositional Languages for Numeric Concepts Through Iterated Learning in Neural Agents',\n",
    "    'params': params,\n",
    "    'order': order\n",
    "})\n",
    "params, order"
   ]
  },
  {
   "cell_type": "code",
   "execution_count": null,
   "id": "64619b3b-37c2-468b-b2b2-70c8b6c242df",
   "metadata": {},
   "outputs": [],
   "source": [
    "original_working_directory"
   ]
  },
  {
   "cell_type": "markdown",
   "id": "de02125c-fac8-43a6-b4e9-3483aee316d8",
   "metadata": {},
   "source": [
    "## Emergence of Communication in an Interactive World with Consistent Speakers"
   ]
  },
  {
   "cell_type": "code",
   "execution_count": null,
   "id": "dfbe0096-2fdd-42b2-ba8d-eb142364a305",
   "metadata": {},
   "outputs": [],
   "source": [
    "!pip install gym"
   ]
  },
  {
   "cell_type": "code",
   "execution_count": null,
   "id": "75478047-c791-49e5-aac6-83588a461779",
   "metadata": {},
   "outputs": [],
   "source": [
    "os.chdir(original_working_directory)\n",
    "os.chdir('emergence-communication-cco/agent')\n",
    "\n",
    "import agent_type\n",
    "from vec_agent_nb_edit import VecAgent\n",
    "\n",
    "speaker = VecAgent(agent_type.AgentType.speaker, acting=False)\n",
    "\n",
    "params, order = count_parameters(speaker.model)\n",
    "parameter_sizes.append({\n",
    "    'title': 'Emergence of Communication in an Interactive World with Consistent Speakers',\n",
    "    'params': params,\n",
    "    'order': order\n",
    "})\n",
    "params, order"
   ]
  },
  {
   "cell_type": "markdown",
   "id": "3a64496e-878b-4b0e-bd02-a71e737bb73a",
   "metadata": {},
   "source": [
    "## Compositional Obverter Communication Learning From Raw Visual Input"
   ]
  },
  {
   "cell_type": "code",
   "execution_count": null,
   "id": "c156593c-a89e-4c07-b055-2dc5cc7f3f98",
   "metadata": {},
   "outputs": [],
   "source": [
    "os.chdir(original_working_directory)\n",
    "os.chdir('obverter')\n",
    "\n",
    "from model import ConvModel\n",
    "\n",
    "speaker = ConvModel(5)\n",
    "\n",
    "params, order = count_parameters(speaker)\n",
    "parameter_sizes.append({\n",
    "    'title': 'Compositional Obverter Communication Learning From Raw Visual Input',\n",
    "    'params': params,\n",
    "    'order': order\n",
    "})\n",
    "params, order"
   ]
  },
  {
   "cell_type": "markdown",
   "id": "28743794-029a-4269-93aa-1f4a13641e87",
   "metadata": {},
   "source": [
    "## Emergence of Compositional Language with Deep Generational Transmission"
   ]
  },
  {
   "cell_type": "code",
   "execution_count": null,
   "id": "4dda0921-c4c2-4b9c-b031-9ad19fc81ba3",
   "metadata": {},
   "outputs": [],
   "source": [
    "!pip install attrs==20.2.0"
   ]
  },
  {
   "cell_type": "code",
   "execution_count": null,
   "id": "75ca3401-c409-4516-aeb3-c04bfd817e55",
   "metadata": {},
   "outputs": [],
   "source": [
    "!pip install parlai"
   ]
  },
  {
   "cell_type": "code",
   "execution_count": null,
   "id": "01fbc68f-b6f5-493c-a0d7-14c4aa5c1588",
   "metadata": {},
   "outputs": [],
   "source": [
    "os.chdir(original_working_directory)\n",
    "os.chdir('evolang')\n",
    "\n",
    "from bots import Questioner\n",
    "\n",
    "params, order = count_parameters(Questioner(\n",
    "    {\n",
    "        # defaults taken from options.py \n",
    "        'q_out_vocab': 3,\n",
    "        'a_out_vocab': 4,\n",
    "        'task_vocab': 0, # This is a dummy value as I don't know what it is, but it doesn't appear to affect the size of the qbot\n",
    "        'embed_size': 20,\n",
    "        'hidden_size': 100,\n",
    "        'props': {'shapes': [0, 1, 2, 3], 'styles': [0, 1, 2, 3], 'colors': [0, 1, 2, 3]} # From the json in the datasets folder\n",
    "    }\n",
    "))\n",
    "parameter_sizes.append({\n",
    "    'title': 'Emergence of Compositional Language with Deep Generational Transmission',\n",
    "    'params': params,\n",
    "    'order': order\n",
    "})\n",
    "params, order"
   ]
  },
  {
   "cell_type": "markdown",
   "id": "4f6f44e2-698c-4188-b75a-49635800ea39",
   "metadata": {},
   "source": [
    "## The Emergence of Compositional Languages for Numeric Concepts Through Iterated Learning in Neural Agents"
   ]
  },
  {
   "cell_type": "code",
   "execution_count": null,
   "id": "dc5397d8-4dc0-4390-8fbe-2446518134cd",
   "metadata": {},
   "outputs": [],
   "source": [
    "# Based on https://github.com/lychengrex/LeNet-5-Implementation-Using-Pytorch/blob/master/LeNet-5%20Implementation%20Using%20Pytorch.ipynb\n",
    "\n",
    "# The paper says they use an LSTM speaker like Havrylov and Titov (2017) \"Emergence of language with multi-agent game...\"\n",
    "# Havrylov and Titov say they use an LSTM with hidden size 512 and vocabulary 10000\n",
    "# And also a LeNet for embedding images\n",
    "\n",
    "class HavrylovNet(nn.Module):\n",
    "\n",
    "    # network structure\n",
    "    def __init__(self):\n",
    "        super(HavrylovNet, self).__init__()\n",
    "        self.rnn = nn.LSTM(\n",
    "            10, # LSTM input size is LeNet output size, i.e. 10\n",
    "            512\n",
    "        )\n",
    "        self.projector = nn.Linear(512, 10000)\n",
    "\n",
    "    def forward(self, img, wrd):\n",
    "        '''\n",
    "        One forward pass through the network.\n",
    "        \n",
    "        Args:\n",
    "            x: input\n",
    "        '''\n",
    "        return F.softmax(self.projector(self.rnn(x)))\n",
    "\n",
    "class LeNet(nn.Module):\n",
    "\n",
    "    # network structure\n",
    "    def __init__(self):\n",
    "        super(LeNet, self).__init__()\n",
    "        self.conv1 = nn.Conv2d(1, 6, 5, padding=2)\n",
    "        self.conv2 = nn.Conv2d(6, 16, 5)\n",
    "        self.fc1   = nn.Linear(16*5*5, 120)\n",
    "        self.fc2   = nn.Linear(120, 84)\n",
    "        self.fc3   = nn.Linear(84, 10)\n",
    "\n",
    "    def forward(self, x):\n",
    "        '''\n",
    "        One forward pass through the network.\n",
    "        \n",
    "        Args:\n",
    "            x: input\n",
    "        '''\n",
    "        x = F.max_pool2d(F.relu(self.conv1(x)), (2, 2))\n",
    "        x = F.max_pool2d(F.relu(self.conv2(x)), (2, 2))\n",
    "        x = x.view(-1, self.num_flat_features(x))\n",
    "        x = F.relu(self.fc1(x))\n",
    "        x = F.relu(self.fc2(x))\n",
    "        x = self.fc3(x)\n",
    "        return x\n",
    "\n",
    "    def num_flat_features(self, x):\n",
    "        '''\n",
    "        Get the number of features in a batch of tensors `x`.\n",
    "        '''\n",
    "        size = x.size()[1:]\n",
    "        return np.prod(size)\n",
    "\n",
    "params, order = count_parameters(torch.nn.Sequential(LeNet(), HavrylovNet()))\n",
    "parameter_sizes.append({\n",
    "    'title': 'The Emergence of Compositional Languages for Numeric Concepts Through Iterated Learning in Neural Agents',\n",
    "    'params': params,\n",
    "    'order': order\n",
    "})\n",
    "params, order"
   ]
  },
  {
   "cell_type": "markdown",
   "id": "d40fa5a3-83c6-40e6-a179-9d7c10a075a9",
   "metadata": {},
   "source": [
    "## Ease-of-Teaching and Language Structure from Emergent Communication"
   ]
  },
  {
   "cell_type": "code",
   "execution_count": null,
   "id": "4396d032-3a2d-48e0-a0ba-2c5f841fb39a",
   "metadata": {},
   "outputs": [],
   "source": [
    "os.chdir(original_working_directory)\n",
    "os.chdir('Ease-of-teaching-and-language-structure')"
   ]
  },
  {
   "cell_type": "markdown",
   "id": "7a0a2a65-41f6-40d1-b78e-0e15e45e1aed",
   "metadata": {},
   "source": [
    "## Compositional Languages Emerge in a Neural Iterated Learning Model"
   ]
  },
  {
   "cell_type": "code",
   "execution_count": null,
   "id": "f6172b5d-e6bd-45db-83a5-9772fd44aae0",
   "metadata": {},
   "outputs": [],
   "source": [
    "os.chdir(original_working_directory)\n",
    "os.chdir('Neural_Iterated_Learning')"
   ]
  },
  {
   "cell_type": "markdown",
   "id": "236a2854-4372-4311-a565-9f8973e34ee5",
   "metadata": {},
   "source": [
    "## Compositionality and Generalization in Emergent Languages"
   ]
  },
  {
   "cell_type": "code",
   "execution_count": null,
   "id": "05c8e3a5-748b-4f0c-905b-fb58f44ca8b0",
   "metadata": {},
   "outputs": [],
   "source": [
    "\"\"\"\n",
    "The paper says\n",
    "\n",
    "  Each input i of the reconstruction game is comprised of iatt attributes,\n",
    "  each with ival possible values. We let i_{att} range from 2 to 4 and i_{val}\n",
    "  from 4 to 100. We represent each attribute as a i_{val} one-hot vector. An\n",
    "  input i is given by the concatenation of its attributes. \n",
    "\n",
    "  ...\n",
    "\n",
    "  Both agents are implemented as single-layer GRU cells (Cho et al., 2014)\n",
    "  with hidden states of size 500.\n",
    "  \n",
    "  Sender encodes i in a message m of fixed length c_{len} as follows. First,\n",
    "  a linear layer maps the input vector into the initial hidden state of\n",
    "  Sender. Next, the message is generated symbol-by-symbol by sampling from a\n",
    "  Categorical distribution over the vocabulary cvoc, parameterized by a linear\n",
    "  mapping from Sender’s hidden state.\n",
    "\n",
    "  In practice, we fix [vocabulary size to 100].\n",
    "\"\"\"\n",
    "\n",
    "class CompGenNet(nn.Module):\n",
    "\n",
    "    # network structure\n",
    "    def __init__(self):\n",
    "        super(CompGenNet, self).__init__()\n",
    "        self.fc1   = nn.Linear(400, 500)\n",
    "        self.gru   = nn.GRU(100, 500)\n",
    "        self.fc2   = nn.Linear(500, 100)\n",
    "\n",
    "    def forward(self, x):\n",
    "        '''\n",
    "        One forward pass through the network.\n",
    "        \n",
    "        Args:\n",
    "            x: input\n",
    "        '''\n",
    "        hidden = self.fc1(x)\n",
    "        out, hidden = self.gru(x, hidden)\n",
    "        return self.fc2(out)\n",
    "\n",
    "params, order = count_parameters(CompGenNet())\n",
    "parameter_sizes.append({\n",
    "    'title': 'Compositionality and Generalization in Emergent Languages',\n",
    "    'params': params,\n",
    "    'order': order\n",
    "})\n",
    "\n",
    "params, order"
   ]
  },
  {
   "cell_type": "markdown",
   "id": "448e4912-9131-49ed-b894-ad815b86623a",
   "metadata": {},
   "source": [
    "## Co-evolution of language and agents in referential games"
   ]
  },
  {
   "cell_type": "code",
   "execution_count": null,
   "id": "af5969c6-3c98-4d07-b799-33ebd8cda360",
   "metadata": {},
   "outputs": [],
   "source": [
    "os.chdir(original_working_directory)\n",
    "os.chdir('cultural-evolution-engine')\n",
    "from model import ObverterModels\n",
    "\n",
    "count_parameters(ObverterModels.ObverterSender(vocab_size=5, output_len=5, sos_id=0))"
   ]
  },
  {
   "cell_type": "markdown",
   "id": "c84c347d-0c99-416f-8d4e-35d54247c1a2",
   "metadata": {},
   "source": [
    "## Inductive Bias and Language Expressivity in Emergent Communication"
   ]
  },
  {
   "cell_type": "code",
   "execution_count": null,
   "id": "0482c667-2029-4171-a4fe-88a6f11ac3ba",
   "metadata": {},
   "outputs": [],
   "source": [
    "os.chdir(original_working_directory)\n",
    "os.chdir('GameBias-EmeCom2020')"
   ]
  },
  {
   "cell_type": "markdown",
   "id": "8352296c-37cd-46dd-8ab8-1304a9ae36b0",
   "metadata": {},
   "source": [
    "## Capacity, Bandwidth, and Compositionality in Emergent Language Learning"
   ]
  },
  {
   "cell_type": "code",
   "execution_count": null,
   "id": "23f964bc-cfa4-4842-9331-f19d979430e9",
   "metadata": {},
   "outputs": [],
   "source": [
    "import sys\n",
    "\n",
    "os.chdir(original_working_directory)\n",
    "\n",
    "# Read in the file\n",
    "with open('cbc-emecom/main.py', 'r') as file:\n",
    "  filedata = file.read()\n",
    "\n",
    "# Replace the target string\n",
    "filedata = filedata.replace('parser.add_argument', '#')\n",
    "\n",
    "# Write the file out again\n",
    "with open('cbc-emecom/main.py', 'w') as file:\n",
    "  file.write(filedata)\n",
    "os.chdir(\"cbc-emecom\")\n",
    "\n",
    "# sys.argv = [\"main.py\", \"--num-binary-messages\", \"24\", \"--num-digits\", \"6\", \"--embedding-size-sender\", \"40\", \"--project-size-sender\", \"60\", \"--num-lstm-sender\", \"300\", \"--num-lstm-receiver\", \"325\", \"--embedding-size-receiver\", \"125\", \"--save-str\", \"<SAVE_STR>\"]\n",
    "\n",
    "import CompCap as cc\n",
    "\n",
    "config = {\n",
    "    'device': device,\n",
    "    'num_binary_messages': 24,\n",
    "    'seed': 0,\n",
    "    \n",
    "    # problem size\n",
    "    'batch_size': 100,\n",
    "    'num_digits': 6,\n",
    "    'signature_size': 2,\n",
    "    \n",
    "    # network params\n",
    "    'embedding_size_sender': 40,\n",
    "    'project_size_sender': 60,\n",
    "    'num_lstm_sender': 300,\n",
    "    'num_lstm_receiver': 325,\n",
    "    'embedding_size_receiver': 125,\n",
    "    \n",
    "    # optimization params\n",
    "    'learning_rate': 3e-4,\n",
    "    'weight_decay': 1e-4,\n",
    "    'output_loss_penalty': 1,\n",
    "    'weight_norm_penalty': 1e-4,\n",
    "    'temp': 1,\n",
    "    'max_iters': 200000,\n",
    "    'train_acc': 0.60,\n",
    "    'trainval_acc': 0.60,\n",
    "    # logging/printing\n",
    "    'trainval_interval': 50,\n",
    "    'model_dir': None,\n",
    "    'save_str': '',\n",
    "    'log_dir': \"./logs\",\n",
    "    'save_dir': \"./models\"\n",
    "}\n",
    "\n",
    "# parameter_count = 0\n",
    "\n",
    "capacity_bandwidth_compositionality = cc.CompCap(config)\n",
    "\n",
    "parameter_count = 0\n",
    "for name, module in capacity_bandwidth_compositionality.named_modules():\n",
    "    if name.startswith('sender'):\n",
    "        for params in module.parameters():\n",
    "            parameter_count += params.numel()\n",
    "\n",
    "(parameter_count, len(str(parameter_count)))"
   ]
  },
  {
   "cell_type": "markdown",
   "id": "b0f593d2-15cd-43be-b603-5e2d40a9ef19",
   "metadata": {},
   "source": [
    "## The Grammar of Emergent Languages"
   ]
  },
  {
   "cell_type": "code",
   "execution_count": null,
   "id": "1f750ef3-75ac-4d71-8efa-febd4752ae1a",
   "metadata": {},
   "outputs": [],
   "source": [
    "os.chdir(original_working_directory)\n",
    "os.chdir('emergent_grammar_induction')"
   ]
  },
  {
   "cell_type": "markdown",
   "id": "a0137e9d-ea08-4842-8573-170b02bb5dd2",
   "metadata": {},
   "source": [
    "## Emergent Communication at Scale"
   ]
  },
  {
   "cell_type": "code",
   "execution_count": null,
   "id": "ba7c1a8c-402c-463d-ba3c-1907efb0f4a2",
   "metadata": {},
   "outputs": [],
   "source": [
    "\"\"\"\n",
    "The paper says:\n",
    "\n",
    "The speaker’s network architecture is composed of several components to transform the\n",
    "target image x into a message m = (wt)T −1\n",
    "t=0 :\n",
    "• The encoder f is a fixed Resnet-50 architecture that has been previously trained on Ima-\n",
    "genet with the BYOL algorithm. The resulting embedding f (x) is of size 2048.\n",
    "• The RNN hθ used is an LSTM of hidden size 256. Therefore the core state zt,θ is of size\n",
    "512.\n",
    "• The core-state adapter cθ is a linear layer with input size 2048 and an output size of 512 that\n",
    "allows to transform the embedding f (x) into an appropriate core state z−1,θ = cθ (f (x)).\n",
    "We split z−1,θ into two equal parts to obtain the initial hidden state zh,−1,θ and the initial\n",
    "cell state zc,−1,θ .\n",
    "• The word embedder gθ associates to each discrete symbols in W ∪ {sos} an embedding\n",
    "of size 10.\n",
    "• The value head vθ first selects the hidden part zh,t,θ of the core state zt,θ and then applies\n",
    "a linear layer of output size 1.\n",
    "• The policy head πθ first selects the hidden part zh,t,θ of the core state zt,θ and then applies\n",
    "a linear layer of output size |W| to obtain logit\n",
    "\"\"\"\n",
    "\n",
    "class ScaleNet(nn.Module):\n",
    "\n",
    "    # network structure\n",
    "    def __init__(self):\n",
    "        super(ScaleNet, self).__init__()\n",
    "        self.core_state_adapter = nn.Linear(2048, 512)\n",
    "        self.word_embedder = nn.Linear(20, 10)\n",
    "        self.rnn = nn.LSTM(10, 256)\n",
    "        self.value_head = nn.Linear(256, 10)\n",
    "        self.policy_head = nn.Linear(256, 10)\n",
    "\n",
    "    def forward(self, img, wrd):\n",
    "        '''\n",
    "        One forward pass through the network.\n",
    "        \n",
    "        Args:\n",
    "            x: input\n",
    "        '''\n",
    "        x = self.core_state_adapter(x)\n",
    "        return x\n",
    "\n",
    "count_parameters(ScaleNet())"
   ]
  },
  {
   "cell_type": "markdown",
   "id": "819fb485-b3e9-4b87-9a29-016307c50ef0",
   "metadata": {},
   "source": [
    "## Interaction history as a source of compositionality in emergent communication"
   ]
  },
  {
   "cell_type": "code",
   "execution_count": null,
   "id": "1f9e5eb0-5e8c-42ce-ae05-d8ce5034c12d",
   "metadata": {},
   "outputs": [],
   "source": [
    "os.chdir(original_working_directory)\n",
    "os.chdir('Interaction-history-as-a-source-of-compositionality')"
   ]
  },
  {
   "cell_type": "markdown",
   "id": "93efb6de-75b8-40d5-bf21-9f5a41f5fffe",
   "metadata": {},
   "source": [
    "## Emergent communication of generalizations"
   ]
  },
  {
   "cell_type": "code",
   "execution_count": null,
   "id": "b241edf6-e1ed-4a4c-8aab-4519f0c9bba6",
   "metadata": {},
   "outputs": [],
   "source": [
    "os.chdir(original_working_directory)\n",
    "os.chdir('emergent-generalization')"
   ]
  },
  {
   "cell_type": "markdown",
   "id": "8b6607ab-9903-4744-8cfa-39091d586529",
   "metadata": {},
   "source": [
    "## Compositionality Through Language Transmission, using Artificial Neural Networks"
   ]
  },
  {
   "cell_type": "code",
   "execution_count": null,
   "id": "afc74b30-c780-4591-b664-c49809f1483b",
   "metadata": {},
   "outputs": [],
   "source": [
    "os.chdir(original_working_directory)\n",
    "os.chdir('neural-ilm')"
   ]
  },
  {
   "cell_type": "markdown",
   "id": "3ac9a04a-3b78-48ff-8447-6eaf387c98e5",
   "metadata": {},
   "source": [
    "## TexRel: a Green Family of Datasets for Emergent Communications on Relations"
   ]
  },
  {
   "cell_type": "code",
   "execution_count": null,
   "id": "00c9869c-aef0-4698-9413-49b1b27be1b1",
   "metadata": {},
   "outputs": [],
   "source": [
    "os.chdir(original_working_directory)\n",
    "os.chdir('texrel')"
   ]
  },
  {
   "cell_type": "markdown",
   "id": "590a398d-f4c0-471c-986e-97982830fde5",
   "metadata": {},
   "source": [
    "## Disentangling Categorization in Multi-agent Emergent Communication"
   ]
  },
  {
   "cell_type": "code",
   "execution_count": null,
   "id": "2a18ce39-6012-4b25-858c-593e7bad7098",
   "metadata": {},
   "outputs": [],
   "source": [
    "os.chdir(original_working_directory)\n",
    "os.chdir('disentangling_categorization')"
   ]
  },
  {
   "cell_type": "markdown",
   "id": "9c43e4ba-52d6-4fd9-8c83-e362c48c4faa",
   "metadata": {},
   "source": [
    "## Emergence of hierarchical reference systems in multi-agent communication"
   ]
  },
  {
   "cell_type": "code",
   "execution_count": null,
   "id": "6eccf555-743b-44b5-8be9-df89600271e5",
   "metadata": {},
   "outputs": [],
   "source": [
    "os.chdir(original_working_directory)\n",
    "os.chdir('hierarchical_reference_game')"
   ]
  },
  {
   "cell_type": "markdown",
   "id": "a49e1d41-c31a-426e-8ea8-a1870b94ab52",
   "metadata": {},
   "source": [
    "## Emergent Communication: Generalization and Overfitting in Lewis Games"
   ]
  },
  {
   "cell_type": "code",
   "execution_count": null,
   "id": "b9a3852c-c293-4a94-9985-f910f8f43fb1",
   "metadata": {},
   "outputs": [],
   "source": [
    "os.chdir(original_working_directory)\n",
    "os.chdir('Population')"
   ]
  },
  {
   "cell_type": "markdown",
   "id": "b07e9035-cc43-450b-a8c5-ab446f34b4f8",
   "metadata": {},
   "source": [
    "## On the Correspondence between Compositionality and Imitation in Emergent Neural Communication"
   ]
  },
  {
   "cell_type": "code",
   "execution_count": null,
   "id": "0fff044a-28df-4aad-af7a-2759fd3296e2",
   "metadata": {},
   "outputs": [],
   "source": [
    "os.chdir(original_working_directory)\n",
    "os.chdir('EGG')\n",
    "\n",
    "'''\n",
    "The paper (https://aclanthology.org/2023.findings-acl.787.pdf) \n",
    "says \"The Sender is a single-layer GRU (Cho et al., 2014)\n",
    "containing a fully-connected (FC) layer that maps the input\n",
    "x to its first hidden state (dim=128).\"\n",
    "And also says\n",
    "\"Each input x denotes an object in an “attribute-\n",
    "value world\", where the object has n_{att} attributes,\n",
    "and each attribute takes n_{val} possible values. We\n",
    "represent x by a concatenation of n_{att} one-hot vec-\n",
    "tors, each of dimension {n_val}.\n",
    "...\n",
    "We set n_{att} = 6, n_{val} = 10\"\n",
    "'''\n",
    "class ImitNet(nn.Module):\n",
    "\n",
    "    # network structure\n",
    "    def __init__(self):\n",
    "        super(ImitNet, self).__init__()\n",
    "        self.fc = nn.Linear(6 * 10, 128)\n",
    "        self.gru = nn.GRU(128, 128)\n",
    "\n",
    "    def forward(self, x):\n",
    "        '''\n",
    "        One forward pass through the network.\n",
    "        \n",
    "        Args:\n",
    "            x: input\n",
    "        '''\n",
    "       \n",
    "        return self.gru(self.fc(x))\n",
    "\n",
    "count_parameters(ImitNet())"
   ]
  },
  {
   "cell_type": "markdown",
   "id": "768c21b7-5e96-4547-bdd2-7b2aa877169f",
   "metadata": {},
   "source": [
    "## Compositionality with Variation Reliably Emerges in Neural Networks"
   ]
  },
  {
   "cell_type": "code",
   "execution_count": null,
   "id": "b959397b-70eb-40f6-8a08-598753cb4b52",
   "metadata": {},
   "outputs": [],
   "source": [
    "os.chdir(original_working_directory)\n",
    "os.chdir('variable_compositionality')"
   ]
  },
  {
   "cell_type": "markdown",
   "id": "6255da8c-c416-4a46-ab6c-9fc681cb2599",
   "metadata": {},
   "source": [
    "## On the Word Boundaries of Emergent Languages Based on Harris's Articulation Scheme"
   ]
  },
  {
   "cell_type": "code",
   "execution_count": null,
   "id": "c564fd43-d62f-455c-9139-f23683bb8527",
   "metadata": {},
   "outputs": [],
   "source": [
    "inherits_from = 'Compositionality and Generalization in Emergent Languages'\n",
    "previous_calculation = [p for p in parameter_sizes if p['title'] = inherits_from][0]\n",
    "params, order = previous_calculation['params'], previous_calculation['order']\n",
    "\n",
    "parameter_sizes.append({\n",
    "    'title': \"On the Word Boundaries of Emergent Languages Based on Harris's Articulation Scheme\"\n",
    "    'params': params,\n",
    "    'order': order\n",
    "})"
   ]
  },
  {
   "cell_type": "markdown",
   "id": "2e5d5a39-901c-427e-a587-e22a46fec3d8",
   "metadata": {},
   "source": [
    "## Lewis's Signaling Game as beta-VAE For Natural Word Lengths and Segments"
   ]
  },
  {
   "cell_type": "code",
   "execution_count": null,
   "id": "324c8637-1048-419d-b751-ef2cee667cd7",
   "metadata": {},
   "outputs": [],
   "source": [
    "inherits_from = 'Compositionality and Generalization in Emergent Languages'\n",
    "previous_calculation = [p for p in parameter_sizes if p['title'] = inherits_from][0]\n",
    "params, order = previous_calculation['params'], previous_calculation['order']\n",
    "\n",
    "parameter_sizes.append({\n",
    "    'title': \"Lewis's Signaling Game as beta-VAE For Natural Word Lengths and Segments\"\n",
    "    'params': params,\n",
    "    'order': order\n",
    "})"
   ]
  }
 ],
 "metadata": {
  "kernelspec": {
   "display_name": "Python 3 (ipykernel)",
   "language": "python",
   "name": "python3"
  },
  "language_info": {
   "codemirror_mode": {
    "name": "ipython",
    "version": 3
   },
   "file_extension": ".py",
   "mimetype": "text/x-python",
   "name": "python",
   "nbconvert_exporter": "python",
   "pygments_lexer": "ipython3",
   "version": "3.8.19"
  }
 },
 "nbformat": 4,
 "nbformat_minor": 5
}
