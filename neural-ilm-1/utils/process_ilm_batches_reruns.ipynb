{
 "cells": [
  {
   "cell_type": "code",
   "execution_count": null,
   "metadata": {},
   "outputs": [],
   "source": [
    "%matplotlib inline\n",
    "import sys, importlib\n",
    "sys.path.append('..')\n",
    "\n",
    "import ulfs\n",
    "from ulfs import graphing, graphing_common, graphing_indexes\n",
    "\n",
    "importlib.reload(ulfs.graphing)\n",
    "importlib.reload(ulfs.graphing_common)\n",
    "importlib.reload(ulfs.graphing_indexes)\n",
    "\n",
    "import utils\n",
    "from utils import ilm_batches\n",
    "importlib.reload(utils.ilm_batches)\n",
    "\n",
    "log_dir = '../logs'\n",
    "\n",
    "value_keys = ['e2e_acc', 'e2e_rho', 'e2e_holdout_acc']\n",
    "\n",
    "def ref_task(title, boxes, res_gen):\n",
    "    return {'script': 'ref_task_clevr', 'refs': boxes, 'scenario': title,\n",
    "     'value_keys': value_keys, 'step_key': 'training_step', 'res_gen': res_gen\n",
    "    }\n",
    "\n",
    "res_gen = 2\n",
    "scenarios = [\n",
    "    ref_task('1 ilm argmax', ['rt118', 'rt121'], res_gen),\n",
    "    ref_task('2 ilm argmax', ['rt119', 'rt122'], res_gen),\n",
    "    ref_task('3 ilm argmax', ['rt120', 'rt123'], res_gen),\n",
    "]\n",
    "\n",
    "target_episode = 0\n",
    "\n",
    "filters = []\n",
    "max_step = 25000\n",
    "units = ''\n",
    "num_rows = 2\n",
    "\n",
    "for scenario in scenarios:\n",
    "    if scenario == '-':\n",
    "        print('--------------')\n",
    "        continue\n",
    "    ilm_batches.print_summary_with_reruns(log_dir, **scenario)\n"
   ]
  }
 ],
 "metadata": {
  "kernelspec": {
   "display_name": "Python 3",
   "language": "python",
   "name": "python3"
  },
  "language_info": {
   "codemirror_mode": {
    "name": "ipython",
    "version": 3
   },
   "file_extension": ".py",
   "mimetype": "text/x-python",
   "name": "python",
   "nbconvert_exporter": "python",
   "pygments_lexer": "ipython3",
   "version": "3.6.8"
  }
 },
 "nbformat": 4,
 "nbformat_minor": 2
}
