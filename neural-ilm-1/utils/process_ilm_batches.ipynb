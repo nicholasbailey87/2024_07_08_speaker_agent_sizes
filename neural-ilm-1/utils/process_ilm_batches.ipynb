{
 "cells": [
  {
   "cell_type": "code",
   "execution_count": null,
   "metadata": {},
   "outputs": [],
   "source": [
    "%matplotlib inline\n",
    "import sys, importlib\n",
    "sys.path.append('..')\n",
    "\n",
    "import ulfs\n",
    "from ulfs import graphing, graphing_common, graphing_indexes\n",
    "\n",
    "importlib.reload(ulfs.graphing)\n",
    "importlib.reload(ulfs.graphing_common)\n",
    "importlib.reload(ulfs.graphing_indexes)\n",
    "\n",
    "import utils\n",
    "from utils import ilm_batches\n",
    "importlib.reload(utils.ilm_batches)\n",
    "\n",
    "log_dir = '../logs'\n",
    "scenarios = [\n",
    "    {'script': 'ilm_ga', 'ref': 'ilmc165'},\n",
    "    {'script': 'ilm_ga', 'ref': 'ilmc166'},\n",
    "]\n",
    "\n",
    "value_keys = ['e2e_acc', 'rho', 'holdout_acc']\n",
    "target_episode = 0\n",
    "\n",
    "filters = []\n",
    "max_step = 25000\n",
    "units = ''\n",
    "num_rows = 2\n",
    "\n",
    "for scenario in scenarios:\n",
    "    if scenario == '-':\n",
    "        print('--------------')\n",
    "        continue\n",
    "    ilm_batches.print_summary(log_dir, **scenario)\n"
   ]
  }
 ],
 "metadata": {
  "kernelspec": {
   "display_name": "Python 3",
   "language": "python",
   "name": "python3"
  },
  "language_info": {
   "codemirror_mode": {
    "name": "ipython",
    "version": 3
   },
   "file_extension": ".py",
   "mimetype": "text/x-python",
   "name": "python",
   "nbconvert_exporter": "python",
   "pygments_lexer": "ipython3",
   "version": "3.6.8"
  }
 },
 "nbformat": 4,
 "nbformat_minor": 2
}
